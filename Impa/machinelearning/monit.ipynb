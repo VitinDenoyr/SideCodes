{
 "cells": [
  {
   "cell_type": "code",
   "execution_count": 1,
   "id": "754a3947",
   "metadata": {},
   "outputs": [],
   "source": [
    "import numpy as np\n",
    "import pandas as pd\n",
    "import matplotlib.pyplot as plt\n",
    "import statsmodels.api as sm\n",
    "\n",
    "from ISLP import load_data\n",
    "from ISLP.models import ( ModelSpec as MS, summarize )\n",
    "\n",
    "from sklearn.model_selection import train_test_split\n",
    "from sklearn.linear_model import LinearRegression\n",
    "from sklearn.metrics import mean_squared_error"
   ]
  },
  {
   "cell_type": "code",
   "execution_count": 2,
   "id": "80a37c49",
   "metadata": {},
   "outputs": [
    {
     "data": {
      "text/html": [
       "<div>\n",
       "<style scoped>\n",
       "    .dataframe tbody tr th:only-of-type {\n",
       "        vertical-align: middle;\n",
       "    }\n",
       "\n",
       "    .dataframe tbody tr th {\n",
       "        vertical-align: top;\n",
       "    }\n",
       "\n",
       "    .dataframe thead th {\n",
       "        text-align: right;\n",
       "    }\n",
       "</style>\n",
       "<table border=\"1\" class=\"dataframe\">\n",
       "  <thead>\n",
       "    <tr style=\"text-align: right;\">\n",
       "      <th></th>\n",
       "      <th>AtBat</th>\n",
       "      <th>Hits</th>\n",
       "      <th>HmRun</th>\n",
       "      <th>Runs</th>\n",
       "      <th>RBI</th>\n",
       "      <th>Walks</th>\n",
       "      <th>Years</th>\n",
       "      <th>CAtBat</th>\n",
       "      <th>CHits</th>\n",
       "      <th>CHmRun</th>\n",
       "      <th>CRuns</th>\n",
       "      <th>CRBI</th>\n",
       "      <th>CWalks</th>\n",
       "      <th>League</th>\n",
       "      <th>Division</th>\n",
       "      <th>PutOuts</th>\n",
       "      <th>Assists</th>\n",
       "      <th>Errors</th>\n",
       "      <th>Salary</th>\n",
       "      <th>NewLeague</th>\n",
       "    </tr>\n",
       "  </thead>\n",
       "  <tbody>\n",
       "    <tr>\n",
       "      <th>0</th>\n",
       "      <td>293</td>\n",
       "      <td>66</td>\n",
       "      <td>1</td>\n",
       "      <td>30</td>\n",
       "      <td>29</td>\n",
       "      <td>14</td>\n",
       "      <td>1</td>\n",
       "      <td>293</td>\n",
       "      <td>66</td>\n",
       "      <td>1</td>\n",
       "      <td>30</td>\n",
       "      <td>29</td>\n",
       "      <td>14</td>\n",
       "      <td>A</td>\n",
       "      <td>E</td>\n",
       "      <td>446</td>\n",
       "      <td>33</td>\n",
       "      <td>20</td>\n",
       "      <td>NaN</td>\n",
       "      <td>A</td>\n",
       "    </tr>\n",
       "    <tr>\n",
       "      <th>1</th>\n",
       "      <td>315</td>\n",
       "      <td>81</td>\n",
       "      <td>7</td>\n",
       "      <td>24</td>\n",
       "      <td>38</td>\n",
       "      <td>39</td>\n",
       "      <td>14</td>\n",
       "      <td>3449</td>\n",
       "      <td>835</td>\n",
       "      <td>69</td>\n",
       "      <td>321</td>\n",
       "      <td>414</td>\n",
       "      <td>375</td>\n",
       "      <td>N</td>\n",
       "      <td>W</td>\n",
       "      <td>632</td>\n",
       "      <td>43</td>\n",
       "      <td>10</td>\n",
       "      <td>475.0</td>\n",
       "      <td>N</td>\n",
       "    </tr>\n",
       "    <tr>\n",
       "      <th>2</th>\n",
       "      <td>479</td>\n",
       "      <td>130</td>\n",
       "      <td>18</td>\n",
       "      <td>66</td>\n",
       "      <td>72</td>\n",
       "      <td>76</td>\n",
       "      <td>3</td>\n",
       "      <td>1624</td>\n",
       "      <td>457</td>\n",
       "      <td>63</td>\n",
       "      <td>224</td>\n",
       "      <td>266</td>\n",
       "      <td>263</td>\n",
       "      <td>A</td>\n",
       "      <td>W</td>\n",
       "      <td>880</td>\n",
       "      <td>82</td>\n",
       "      <td>14</td>\n",
       "      <td>480.0</td>\n",
       "      <td>A</td>\n",
       "    </tr>\n",
       "    <tr>\n",
       "      <th>3</th>\n",
       "      <td>496</td>\n",
       "      <td>141</td>\n",
       "      <td>20</td>\n",
       "      <td>65</td>\n",
       "      <td>78</td>\n",
       "      <td>37</td>\n",
       "      <td>11</td>\n",
       "      <td>5628</td>\n",
       "      <td>1575</td>\n",
       "      <td>225</td>\n",
       "      <td>828</td>\n",
       "      <td>838</td>\n",
       "      <td>354</td>\n",
       "      <td>N</td>\n",
       "      <td>E</td>\n",
       "      <td>200</td>\n",
       "      <td>11</td>\n",
       "      <td>3</td>\n",
       "      <td>500.0</td>\n",
       "      <td>N</td>\n",
       "    </tr>\n",
       "    <tr>\n",
       "      <th>4</th>\n",
       "      <td>321</td>\n",
       "      <td>87</td>\n",
       "      <td>10</td>\n",
       "      <td>39</td>\n",
       "      <td>42</td>\n",
       "      <td>30</td>\n",
       "      <td>2</td>\n",
       "      <td>396</td>\n",
       "      <td>101</td>\n",
       "      <td>12</td>\n",
       "      <td>48</td>\n",
       "      <td>46</td>\n",
       "      <td>33</td>\n",
       "      <td>N</td>\n",
       "      <td>E</td>\n",
       "      <td>805</td>\n",
       "      <td>40</td>\n",
       "      <td>4</td>\n",
       "      <td>91.5</td>\n",
       "      <td>N</td>\n",
       "    </tr>\n",
       "  </tbody>\n",
       "</table>\n",
       "</div>"
      ],
      "text/plain": [
       "   AtBat  Hits  HmRun  Runs  RBI  Walks  Years  CAtBat  CHits  CHmRun  CRuns  \\\n",
       "0    293    66      1    30   29     14      1     293     66       1     30   \n",
       "1    315    81      7    24   38     39     14    3449    835      69    321   \n",
       "2    479   130     18    66   72     76      3    1624    457      63    224   \n",
       "3    496   141     20    65   78     37     11    5628   1575     225    828   \n",
       "4    321    87     10    39   42     30      2     396    101      12     48   \n",
       "\n",
       "   CRBI  CWalks League Division  PutOuts  Assists  Errors  Salary NewLeague  \n",
       "0    29      14      A        E      446       33      20     NaN         A  \n",
       "1   414     375      N        W      632       43      10   475.0         N  \n",
       "2   266     263      A        W      880       82      14   480.0         A  \n",
       "3   838     354      N        E      200       11       3   500.0         N  \n",
       "4    46      33      N        E      805       40       4    91.5         N  "
      ]
     },
     "execution_count": 2,
     "metadata": {},
     "output_type": "execute_result"
    }
   ],
   "source": [
    "Hitters = load_data('Hitters')\n",
    "Hitters.head()"
   ]
  },
  {
   "cell_type": "code",
   "execution_count": 3,
   "id": "26233962",
   "metadata": {},
   "outputs": [
    {
     "data": {
      "text/plain": [
       "np.int64(59)"
      ]
     },
     "execution_count": 3,
     "metadata": {},
     "output_type": "execute_result"
    }
   ],
   "source": [
    "Hitters = load_data('Hitters')\n",
    "np.isnan(Hitters['Salary']).sum()"
   ]
  },
  {
   "cell_type": "code",
   "execution_count": 4,
   "id": "8e8798e2",
   "metadata": {},
   "outputs": [],
   "source": [
    "Hitters = Hitters.loc[~np.isnan(Hitters['Salary'])]"
   ]
  },
  {
   "cell_type": "code",
   "execution_count": 5,
   "id": "ad8c8e84",
   "metadata": {},
   "outputs": [],
   "source": [
    "X = MS(Hitters.columns.drop(['Salary'])).fit_transform(Hitters)\n",
    "X_train , X_test , y_train , y_test = train_test_split(X, Hitters.Salary, test_size = 0.3, random_state = 0)"
   ]
  },
  {
   "cell_type": "code",
   "execution_count": null,
   "id": "88d9d2d9",
   "metadata": {},
   "outputs": [],
   "source": []
  },
  {
   "cell_type": "code",
   "execution_count": null,
   "id": "c3d0b498",
   "metadata": {},
   "outputs": [
    {
     "data": {
      "text/html": [
       "<div>\n",
       "<style scoped>\n",
       "    .dataframe tbody tr th:only-of-type {\n",
       "        vertical-align: middle;\n",
       "    }\n",
       "\n",
       "    .dataframe tbody tr th {\n",
       "        vertical-align: top;\n",
       "    }\n",
       "\n",
       "    .dataframe thead th {\n",
       "        text-align: right;\n",
       "    }\n",
       "</style>\n",
       "<table border=\"1\" class=\"dataframe\">\n",
       "  <thead>\n",
       "    <tr style=\"text-align: right;\">\n",
       "      <th></th>\n",
       "      <th>coef</th>\n",
       "      <th>std err</th>\n",
       "      <th>t</th>\n",
       "      <th>P&gt;|t|</th>\n",
       "    </tr>\n",
       "  </thead>\n",
       "  <tbody>\n",
       "    <tr>\n",
       "      <th>intercept</th>\n",
       "      <td>163.1036</td>\n",
       "      <td>90.779</td>\n",
       "      <td>1.797</td>\n",
       "      <td>0.074</td>\n",
       "    </tr>\n",
       "    <tr>\n",
       "      <th>AtBat</th>\n",
       "      <td>-1.9799</td>\n",
       "      <td>0.634</td>\n",
       "      <td>-3.123</td>\n",
       "      <td>0.002</td>\n",
       "    </tr>\n",
       "    <tr>\n",
       "      <th>Hits</th>\n",
       "      <td>7.5008</td>\n",
       "      <td>2.378</td>\n",
       "      <td>3.155</td>\n",
       "      <td>0.002</td>\n",
       "    </tr>\n",
       "    <tr>\n",
       "      <th>HmRun</th>\n",
       "      <td>4.3309</td>\n",
       "      <td>6.201</td>\n",
       "      <td>0.698</td>\n",
       "      <td>0.486</td>\n",
       "    </tr>\n",
       "    <tr>\n",
       "      <th>Runs</th>\n",
       "      <td>-2.3762</td>\n",
       "      <td>2.981</td>\n",
       "      <td>-0.797</td>\n",
       "      <td>0.426</td>\n",
       "    </tr>\n",
       "    <tr>\n",
       "      <th>RBI</th>\n",
       "      <td>-1.0450</td>\n",
       "      <td>2.601</td>\n",
       "      <td>-0.402</td>\n",
       "      <td>0.688</td>\n",
       "    </tr>\n",
       "    <tr>\n",
       "      <th>Walks</th>\n",
       "      <td>6.2313</td>\n",
       "      <td>1.829</td>\n",
       "      <td>3.408</td>\n",
       "      <td>0.001</td>\n",
       "    </tr>\n",
       "    <tr>\n",
       "      <th>Years</th>\n",
       "      <td>-3.4891</td>\n",
       "      <td>12.412</td>\n",
       "      <td>-0.281</td>\n",
       "      <td>0.779</td>\n",
       "    </tr>\n",
       "    <tr>\n",
       "      <th>CAtBat</th>\n",
       "      <td>-0.1713</td>\n",
       "      <td>0.135</td>\n",
       "      <td>-1.267</td>\n",
       "      <td>0.206</td>\n",
       "    </tr>\n",
       "    <tr>\n",
       "      <th>CHits</th>\n",
       "      <td>0.1340</td>\n",
       "      <td>0.675</td>\n",
       "      <td>0.199</td>\n",
       "      <td>0.843</td>\n",
       "    </tr>\n",
       "    <tr>\n",
       "      <th>CHmRun</th>\n",
       "      <td>-0.1729</td>\n",
       "      <td>1.617</td>\n",
       "      <td>-0.107</td>\n",
       "      <td>0.915</td>\n",
       "    </tr>\n",
       "    <tr>\n",
       "      <th>CRuns</th>\n",
       "      <td>1.4543</td>\n",
       "      <td>0.750</td>\n",
       "      <td>1.938</td>\n",
       "      <td>0.054</td>\n",
       "    </tr>\n",
       "    <tr>\n",
       "      <th>CRBI</th>\n",
       "      <td>0.8077</td>\n",
       "      <td>0.693</td>\n",
       "      <td>1.166</td>\n",
       "      <td>0.245</td>\n",
       "    </tr>\n",
       "    <tr>\n",
       "      <th>CWalks</th>\n",
       "      <td>-0.8116</td>\n",
       "      <td>0.328</td>\n",
       "      <td>-2.474</td>\n",
       "      <td>0.014</td>\n",
       "    </tr>\n",
       "    <tr>\n",
       "      <th>League[N]</th>\n",
       "      <td>62.5994</td>\n",
       "      <td>79.261</td>\n",
       "      <td>0.790</td>\n",
       "      <td>0.430</td>\n",
       "    </tr>\n",
       "    <tr>\n",
       "      <th>Division[W]</th>\n",
       "      <td>-116.8492</td>\n",
       "      <td>40.367</td>\n",
       "      <td>-2.895</td>\n",
       "      <td>0.004</td>\n",
       "    </tr>\n",
       "    <tr>\n",
       "      <th>PutOuts</th>\n",
       "      <td>0.2819</td>\n",
       "      <td>0.077</td>\n",
       "      <td>3.640</td>\n",
       "      <td>0.000</td>\n",
       "    </tr>\n",
       "    <tr>\n",
       "      <th>Assists</th>\n",
       "      <td>0.3711</td>\n",
       "      <td>0.221</td>\n",
       "      <td>1.678</td>\n",
       "      <td>0.095</td>\n",
       "    </tr>\n",
       "    <tr>\n",
       "      <th>Errors</th>\n",
       "      <td>-3.3608</td>\n",
       "      <td>4.392</td>\n",
       "      <td>-0.765</td>\n",
       "      <td>0.445</td>\n",
       "    </tr>\n",
       "    <tr>\n",
       "      <th>NewLeague[N]</th>\n",
       "      <td>-24.7623</td>\n",
       "      <td>79.003</td>\n",
       "      <td>-0.313</td>\n",
       "      <td>0.754</td>\n",
       "    </tr>\n",
       "  </tbody>\n",
       "</table>\n",
       "</div>"
      ],
      "text/plain": [
       "                  coef  std err      t  P>|t|\n",
       "intercept     163.1036   90.779  1.797  0.074\n",
       "AtBat          -1.9799    0.634 -3.123  0.002\n",
       "Hits            7.5008    2.378  3.155  0.002\n",
       "HmRun           4.3309    6.201  0.698  0.486\n",
       "Runs           -2.3762    2.981 -0.797  0.426\n",
       "RBI            -1.0450    2.601 -0.402  0.688\n",
       "Walks           6.2313    1.829  3.408  0.001\n",
       "Years          -3.4891   12.412 -0.281  0.779\n",
       "CAtBat         -0.1713    0.135 -1.267  0.206\n",
       "CHits           0.1340    0.675  0.199  0.843\n",
       "CHmRun         -0.1729    1.617 -0.107  0.915\n",
       "CRuns           1.4543    0.750  1.938  0.054\n",
       "CRBI            0.8077    0.693  1.166  0.245\n",
       "CWalks         -0.8116    0.328 -2.474  0.014\n",
       "League[N]      62.5994   79.261  0.790  0.430\n",
       "Division[W]  -116.8492   40.367 -2.895  0.004\n",
       "PutOuts         0.2819    0.077  3.640  0.000\n",
       "Assists         0.3711    0.221  1.678  0.095\n",
       "Errors         -3.3608    4.392 -0.765  0.445\n",
       "NewLeague[N]  -24.7623   79.003 -0.313  0.754"
      ]
     },
     "execution_count": 13,
     "metadata": {},
     "output_type": "execute_result"
    }
   ],
   "source": [
    "# Adicionar intercepto\n",
    "from statsmodels.tools import add_constant\n",
    "X = add_constant(X)\n",
    "\n",
    "# Modelo e Fit\n",
    "model = sm.OLS(Hitters['Salary'], X)\n",
    "res = model.fit()\n",
    "summarize(res)"
   ]
  },
  {
   "cell_type": "code",
   "execution_count": 17,
   "id": "c5f31c05",
   "metadata": {},
   "outputs": [
    {
     "name": "stdout",
     "output_type": "stream",
     "text": [
      "121776.25594884089\n",
      "122008.53991131109\n"
     ]
    }
   ],
   "source": [
    "model = LinearRegression()\n",
    "model.fit (X_train, y_train)\n",
    "y_pred = model.predict(X_test)\n",
    "MSE_1 = mean_squared_error(y_test, y_pred)\n",
    "\n",
    "model = LinearRegression()\n",
    "model.fit(X_train.drop(columns = ['Assists', 'Errors']), y_train)\n",
    "y_pred = model.predict(X_test.drop(columns = ['Assists', 'Errors']))\n",
    "MSE_2 = mean_squared_error(y_test , y_pred)\n",
    "\n",
    "print(MSE_1)\n",
    "print(MSE_2)"
   ]
  },
  {
   "cell_type": "code",
   "execution_count": 19,
   "id": "448c1a8e",
   "metadata": {},
   "outputs": [],
   "source": [
    "import numpy as np\n",
    "import pandas as pd\n",
    "import matplotlib.pyplot as plt\n",
    "import statsmodels.api as sm\n",
    "from ISLP import load_data\n",
    "from ISLP.models import(ModelSpec as MS, summarize)\n",
    "from ISLP import confusion_table\n",
    "from sklearn.model_selection import train_test_split\n",
    "from sklearn.preprocessing import StandardScaler\n",
    "from sklearn.neighbors import KNeighborsRegressor\n",
    "BrainCancer = load_data('BrainCancer')"
   ]
  },
  {
   "cell_type": "code",
   "execution_count": 21,
   "id": "f3c4de61",
   "metadata": {},
   "outputs": [],
   "source": [
    "X = MS(BrainCancer.columns.drop(['time'])).fit_transform(BrainCancer)\n",
    "scaler = StandardScaler(with_mean = True , with_std = True , copy = True)\n",
    "scaler.fit(X)\n",
    "X_std = scaler.transform(X)"
   ]
  },
  {
   "cell_type": "code",
   "execution_count": 22,
   "id": "4ea58ed3",
   "metadata": {},
   "outputs": [],
   "source": [
    "X_train , X_test , y_train , y_test = train_test_split(np.asarray(X_std),BrainCancer.time , test_size =20, random_state =0)"
   ]
  },
  {
   "cell_type": "code",
   "execution_count": null,
   "id": "5f3cc761",
   "metadata": {},
   "outputs": [
    {
     "data": {
      "image/png": "[encoded data removed]",
      "text/plain": [
       "<Figure size 600x600 with 1 Axes>"
      ]
     },
     "metadata": {},
     "output_type": "display_data"
    }
   ],
   "source": [
    "knn1 = KNeighborsRegressor ( n_neighbors =1)\n",
    "y_pred = knn1.fit( X_train , y_train ).predict ( X_test )\n",
    "plt.figure ( figsize =(6, 6) )\n",
    "plt.scatter ( y_test , y_pred )\n",
    "plt.plot ([0, 80], [0, 80], color = 'red')\n",
    "plt.xlabel (\"y_test\")\n",
    "plt.ylabel (\"y_pred\")\n",
    "plt.axis (\"scaled\")\n",
    "plt.show ()"
   ]
  },
  {
   "cell_type": "code",
   "execution_count": 47,
   "id": "74d47bec",
   "metadata": {},
   "outputs": [
    {
     "data": {
      "image/png": "[encoded data removed]",
      "text/plain": [
       "<Figure size 1000x1000 with 2 Axes>"
      ]
     },
     "metadata": {},
     "output_type": "display_data"
    }
   ],
   "source": [
    "fig, axs = plt.subplots(1,2, figsize=(10,10))\n",
    "\n",
    "y_prev = knn1.predict(X_train)\n",
    "axs[0].scatter ( y_train , y_prev )\n",
    "axs[0].plot ([0, 80], [0, 80], color = 'red')\n",
    "axs[0].set_xlabel (\"y_train\")\n",
    "axs[0].set_ylabel (\"y_pred\")\n",
    "axs[0].axis (\"scaled\")\n",
    "\n",
    "axs[1].scatter ( y_test, y_pred )\n",
    "axs[1].plot ([0, 80], [0, 80], color = 'red')\n",
    "axs[1].set_xlabel (\"y_test\")\n",
    "axs[1].set_ylabel (\"y_pred\")\n",
    "axs[1].axis (\"scaled\")\n",
    "\n",
    "plt.show ()"
   ]
  },
  {
   "cell_type": "markdown",
   "id": "a3f0c42c",
   "metadata": {},
   "source": [
    "É esperado vermos que o treino está muito bem ajustado, mas o teste não."
   ]
  },
  {
   "cell_type": "code",
   "execution_count": null,
   "id": "8bec34bd",
   "metadata": {},
   "outputs": [
    {
     "data": {
      "text/plain": [
       "22    False\n",
       "6      True\n",
       "61     True\n",
       "48    False\n",
       "79    False\n",
       "      ...  \n",
       "84    False\n",
       "67     True\n",
       "64     True\n",
       "47     True\n",
       "44     True\n",
       "Name: time, Length: 68, dtype: bool"
      ]
     },
     "execution_count": 57,
     "metadata": {},
     "output_type": "execute_result"
    }
   ],
   "source": [
    "from sklearn . neighbors import KNeighborsClassifier\n",
    "\n",
    "y_train_12 = y_train > 12\n",
    "y_test_12 = y_test > 12\n",
    "\n",
    "knn1 = KNeighborsClassifier ( n_neighbors =1)\n",
    "y_train_pred = knn1 . fit( X_train , y_train_12 ) . predict ( X_train )\n",
    "y_test_pred = knn1 . predict ( X_test )"
   ]
  },
  {
   "cell_type": "code",
   "execution_count": null,
   "id": "14e44090",
   "metadata": {},
   "outputs": [
    {
     "name": "stdout",
     "output_type": "stream",
     "text": [
      "0.6617647058823529\n"
     ]
    },
    {
     "data": {
      "text/plain": [
       "np.float64(0.55)"
      ]
     },
     "execution_count": 67,
     "metadata": {},
     "output_type": "execute_result"
    }
   ],
   "source": [
    "acc_train = (y_train_12 & y_train_pred).sum()/len(y_train_12)\n",
    "acc_test = (y_test_12 & y_test_pred).sum()/len(y_test_12)\n",
    "\n",
    "confusion = confusion_table(true_labels=y_test_12,predicted_labels=y_test_pred)"
   ]
  }
 ],
 "metadata": {
  "kernelspec": {
   "display_name": "Python 3",
   "language": "python",
   "name": "python3"
  },
  "language_info": {
   "codemirror_mode": {
    "name": "ipython",
    "version": 3
   },
   "file_extension": ".py",
   "mimetype": "text/x-python",
   "name": "python",
   "nbconvert_exporter": "python",
   "pygments_lexer": "ipython3",
   "version": "3.12.3"
  }
 },
 "nbformat": 4,
 "nbformat_minor": 5
}
